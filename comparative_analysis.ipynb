{
 "cells": [
  {
   "cell_type": "markdown",
   "id": "4ade2a5e-c7c6-47f3-a4d2-204117bfa21a",
   "metadata": {},
   "source": [
    "AIM: To compare different bag-of-word modes using a neural network."
   ]
  },
  {
   "cell_type": "code",
   "execution_count": 1,
   "id": "6dd55752-89ff-451b-8e6c-a7e2af9135cb",
   "metadata": {},
   "outputs": [
    {
     "name": "stderr",
     "output_type": "stream",
     "text": [
      "[nltk_data] Downloading package stopwords to\n",
      "[nltk_data]     /home/bhavsarkau60ine/nltk_data...\n",
      "[nltk_data]   Package stopwords is already up-to-date!\n",
      "2022-10-16 12:13:50.159845: W tensorflow/stream_executor/platform/default/dso_loader.cc:64] Could not load dynamic library 'libcudart.so.11.0'; dlerror: libcudart.so.11.0: cannot open shared object file: No such file or directory\n",
      "2022-10-16 12:13:50.159877: I tensorflow/stream_executor/cuda/cudart_stub.cc:29] Ignore above cudart dlerror if you do not have a GPU set up on your machine.\n"
     ]
    }
   ],
   "source": [
    "import helper_vocab, helper_analysis\n",
    "from collections import Counter\n",
    "import seaborn as sns\n",
    "import numpy"
   ]
  },
  {
   "cell_type": "markdown",
   "id": "572e0ab8-0cdd-44b7-91e5-ce6e84ec1422",
   "metadata": {
    "tags": []
   },
   "source": [
    "### VOCABULARY CREATION\n",
    "> To create all present tokens list."
   ]
  },
  {
   "cell_type": "code",
   "execution_count": 2,
   "id": "85198b37-cc11-4177-9e67-09368595d820",
   "metadata": {},
   "outputs": [
    {
     "name": "stdout",
     "output_type": "stream",
     "text": [
      "Vocabulary Length (all tokens present in the document):  43961\n"
     ]
    }
   ],
   "source": [
    "vocab_filename = 'Data/Vocab/vocab_all_occ.txt' # vocab filename with its location\n",
    "vocab_counter = Counter() # define vocab counter\n",
    "helper_vocab.process_docs('Data/Raw/pos', vocab_counter) # add all positive label documents to vocab\n",
    "helper_vocab.process_docs('Data/Raw/neg', vocab_counter) # add all negative label documents to vocab\n",
    "print('Vocabulary Length (all tokens present in the document): ', len(vocab_counter))\n",
    "helper_vocab.save_token_list(vocab_counter, vocab_filename) #saving list of all the tokens in a file"
   ]
  },
  {
   "cell_type": "markdown",
   "id": "9c7f9298-44ee-4e06-ac2c-6719905a5e23",
   "metadata": {},
   "source": [
    "### COMPARING WORD SCORING METHODS\n",
    "> To compare the word scoring methods (Bag-of-Words) using the neural network model."
   ]
  },
  {
   "cell_type": "code",
   "execution_count": 3,
   "id": "fd1d3904-d5c8-4e06-8af9-cf9f24f46f26",
   "metadata": {},
   "outputs": [],
   "source": [
    "# load the vocabulary\n",
    "vocab = helper_analysis.load_doc(vocab_filename)\n",
    "vocab = set(vocab.split())"
   ]
  },
  {
   "cell_type": "code",
   "execution_count": 4,
   "id": "830fec37-6c80-4af7-a1a4-54d7a63a0413",
   "metadata": {},
   "outputs": [],
   "source": [
    "# load all reviews\n",
    "train_docs, ytrain = helper_analysis.load_clean_dataset(vocab, True)\n",
    "test_docs, ytest = helper_analysis.load_clean_dataset(vocab, False)"
   ]
  },
  {
   "cell_type": "code",
   "execution_count": 5,
   "id": "7703163d-90a6-468c-91b2-c8999d79b8c3",
   "metadata": {},
   "outputs": [
    {
     "name": "stderr",
     "output_type": "stream",
     "text": [
      "2022-10-16 12:13:57.196167: W tensorflow/stream_executor/platform/default/dso_loader.cc:64] Could not load dynamic library 'libcuda.so.1'; dlerror: libcuda.so.1: cannot open shared object file: No such file or directory\n",
      "2022-10-16 12:13:57.196223: W tensorflow/stream_executor/cuda/cuda_driver.cc:269] failed call to cuInit: UNKNOWN ERROR (303)\n",
      "2022-10-16 12:13:57.196243: I tensorflow/stream_executor/cuda/cuda_diagnostics.cc:156] kernel driver does not appear to be running on this host (92ca0cc5b47f): /proc/driver/nvidia/version does not exist\n",
      "2022-10-16 12:13:57.196517: I tensorflow/core/platform/cpu_feature_guard.cc:193] This TensorFlow binary is optimized with oneAPI Deep Neural Network Library (oneDNN) to use the following CPU instructions in performance-critical operations:  AVX2 FMA\n",
      "To enable them in other operations, rebuild TensorFlow with the appropriate compiler flags.\n"
     ]
    },
    {
     "name": "stdout",
     "output_type": "stream",
     "text": [
      "Mode:  binary  | Accuracy:  0.9222797751426697\n",
      "Mode:  count  | Accuracy:  0.8911917209625244\n",
      "Mode:  tfidf  | Accuracy:  0.8704662919044495\n",
      "Mode:  freq  | Accuracy:  0.8601036071777344\n"
     ]
    }
   ],
   "source": [
    "# prepare data for mode and evaluate model for different modes\n",
    "modes = ['binary', 'count', 'tfidf', 'freq'] # list of modes\n",
    "results = dict()\n",
    "for mode in modes:\n",
    "    Xtrain, Xtest = helper_analysis.prepare_data(train_docs, test_docs, mode)\n",
    "    results[mode] = helper_analysis.evaluate_mode(numpy.array(Xtrain), numpy.array(ytrain), numpy.array(Xtest), numpy.array(ytest))\n",
    "    print('Mode: ', mode, ' | Accuracy: ', results[mode])"
   ]
  },
  {
   "cell_type": "code",
   "execution_count": 6,
   "id": "685f7d07-30c0-4c63-91a6-c76ba46e691b",
   "metadata": {},
   "outputs": [
    {
     "name": "stderr",
     "output_type": "stream",
     "text": [
      "/opt/anaconda3/lib/python3.9/site-packages/seaborn/_decorators.py:36: FutureWarning: Pass the following variables as keyword args: x, y. From version 0.12, the only valid positional argument will be `data`, and passing other arguments without an explicit keyword will result in an error or misinterpretation.\n",
      "  warnings.warn(\n"
     ]
    },
    {
     "data": {
      "text/plain": [
       "[Text(0, 0, '0.92228'),\n",
       " Text(0, 0, '0.891192'),\n",
       " Text(0, 0, '0.870466'),\n",
       " Text(0, 0, '0.860104')]"
      ]
     },
     "execution_count": 6,
     "metadata": {},
     "output_type": "execute_result"
    },
    {
     "data": {
      "image/png": "[encoded data removed]",
      "text/plain": [
       "<Figure size 640x480 with 1 Axes>"
      ]
     },
     "metadata": {},
     "output_type": "display_data"
    }
   ],
   "source": [
    "# plot values on a bar plot\n",
    "ax = sns.barplot(list(results.keys()), list(results.values()))\n",
    "ax.bar_label(ax.containers[0])"
   ]
  },
  {
   "cell_type": "markdown",
   "id": "865acc76-35e6-4ed7-af9b-c312c65c948f",
   "metadata": {},
   "source": [
    "All the tokens when used to compare all the four modes of bag-of-words, we find that 'binary' mode has the highest accuracy."
   ]
  }
 ],
 "metadata": {
  "kernelspec": {
   "display_name": "Python 3 (ipykernel)",
   "language": "python",
   "name": "python3"
  },
  "language_info": {
   "codemirror_mode": {
    "name": "ipython",
    "version": 3
   },
   "file_extension": ".py",
   "mimetype": "text/x-python",
   "name": "python",
   "nbconvert_exporter": "python",
   "pygments_lexer": "ipython3",
   "version": "3.9.12"
  }
 },
 "nbformat": 4,
 "nbformat_minor": 5
}
